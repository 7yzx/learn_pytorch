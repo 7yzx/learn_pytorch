{
 "cells": [
  {
   "cell_type": "code",
   "execution_count": 1,
   "id": "4073ee98",
   "metadata": {},
   "outputs": [],
   "source": [
    "#Q1\n",
    "import torch\n",
    "from torch import nn\n",
    "from torch.nn import functional as F"
   ]
  },
  {
   "cell_type": "code",
   "execution_count": 2,
   "id": "0e5bcea8",
   "metadata": {},
   "outputs": [],
   "source": [
    "class MySequential_list(nn.Module):\n",
    "    def __init__(self, *args):\n",
    "        super().__init__()\n",
    "        self.modules_list = []\n",
    "        for idx, module in enumerate(args):\n",
    "            self.modules_list.append(module)\n",
    "\n",
    "    def forward(self, x):\n",
    "        for block in self.modules_list:\n",
    "            x = block(x)\n",
    "        return x\n"
   ]
  },
  {
   "cell_type": "code",
   "execution_count": 3,
   "id": "ba4c2ab2",
   "metadata": {},
   "outputs": [
    {
     "ename": "TypeError",
     "evalue": "'list' object is not callable",
     "output_type": "error",
     "traceback": [
      "\u001b[1;31m---------------------------------------------------------------------------\u001b[0m",
      "\u001b[1;31mTypeError\u001b[0m                                 Traceback (most recent call last)",
      "Cell \u001b[1;32mIn[3], line 3\u001b[0m\n\u001b[0;32m      1\u001b[0m net_Q1 \u001b[38;5;241m=\u001b[39m MySequential_list([nn\u001b[38;5;241m.\u001b[39mLinear(\u001b[38;5;241m20\u001b[39m, \u001b[38;5;241m256\u001b[39m), nn\u001b[38;5;241m.\u001b[39mReLU(), nn\u001b[38;5;241m.\u001b[39mLinear(\u001b[38;5;241m256\u001b[39m, \u001b[38;5;241m10\u001b[39m)])\n\u001b[0;32m      2\u001b[0m X \u001b[38;5;241m=\u001b[39m torch\u001b[38;5;241m.\u001b[39mrand(\u001b[38;5;241m2\u001b[39m, \u001b[38;5;241m20\u001b[39m)\n\u001b[1;32m----> 3\u001b[0m prednet_test \u001b[38;5;241m=\u001b[39m \u001b[43mnet_Q1\u001b[49m\u001b[43m(\u001b[49m\u001b[43mX\u001b[49m\u001b[43m)\u001b[49m  \u001b[38;5;66;03m# TypeError: 'list' object is not callable\u001b[39;00m\n\u001b[0;32m      4\u001b[0m \u001b[38;5;28mprint\u001b[39m(prednet_test)\n\u001b[0;32m      5\u001b[0m \u001b[38;5;28mprint\u001b[39m(net_Q1)\n",
      "File \u001b[1;32mD:\\Amamba\\envs\\d2l\\lib\\site-packages\\torch\\nn\\modules\\module.py:1130\u001b[0m, in \u001b[0;36mModule._call_impl\u001b[1;34m(self, *input, **kwargs)\u001b[0m\n\u001b[0;32m   1126\u001b[0m \u001b[38;5;66;03m# If we don't have any hooks, we want to skip the rest of the logic in\u001b[39;00m\n\u001b[0;32m   1127\u001b[0m \u001b[38;5;66;03m# this function, and just call forward.\u001b[39;00m\n\u001b[0;32m   1128\u001b[0m \u001b[38;5;28;01mif\u001b[39;00m \u001b[38;5;129;01mnot\u001b[39;00m (\u001b[38;5;28mself\u001b[39m\u001b[38;5;241m.\u001b[39m_backward_hooks \u001b[38;5;129;01mor\u001b[39;00m \u001b[38;5;28mself\u001b[39m\u001b[38;5;241m.\u001b[39m_forward_hooks \u001b[38;5;129;01mor\u001b[39;00m \u001b[38;5;28mself\u001b[39m\u001b[38;5;241m.\u001b[39m_forward_pre_hooks \u001b[38;5;129;01mor\u001b[39;00m _global_backward_hooks\n\u001b[0;32m   1129\u001b[0m         \u001b[38;5;129;01mor\u001b[39;00m _global_forward_hooks \u001b[38;5;129;01mor\u001b[39;00m _global_forward_pre_hooks):\n\u001b[1;32m-> 1130\u001b[0m     \u001b[38;5;28;01mreturn\u001b[39;00m forward_call(\u001b[38;5;241m*\u001b[39m\u001b[38;5;28minput\u001b[39m, \u001b[38;5;241m*\u001b[39m\u001b[38;5;241m*\u001b[39mkwargs)\n\u001b[0;32m   1131\u001b[0m \u001b[38;5;66;03m# Do not call functions when jit is used\u001b[39;00m\n\u001b[0;32m   1132\u001b[0m full_backward_hooks, non_full_backward_hooks \u001b[38;5;241m=\u001b[39m [], []\n",
      "Cell \u001b[1;32mIn[2], line 10\u001b[0m, in \u001b[0;36mMySequential_list.forward\u001b[1;34m(self, x)\u001b[0m\n\u001b[0;32m      8\u001b[0m \u001b[38;5;28;01mdef\u001b[39;00m \u001b[38;5;21mforward\u001b[39m(\u001b[38;5;28mself\u001b[39m, x):\n\u001b[0;32m      9\u001b[0m     \u001b[38;5;28;01mfor\u001b[39;00m block \u001b[38;5;129;01min\u001b[39;00m \u001b[38;5;28mself\u001b[39m\u001b[38;5;241m.\u001b[39mmodules_list:\n\u001b[1;32m---> 10\u001b[0m         x \u001b[38;5;241m=\u001b[39m \u001b[43mblock\u001b[49m\u001b[43m(\u001b[49m\u001b[43mx\u001b[49m\u001b[43m)\u001b[49m\n\u001b[0;32m     11\u001b[0m     \u001b[38;5;28;01mreturn\u001b[39;00m x\n",
      "\u001b[1;31mTypeError\u001b[0m: 'list' object is not callable"
     ]
    }
   ],
   "source": [
    "net_Q1 = MySequential_list([nn.Linear(20, 256), nn.ReLU(), nn.Linear(256, 10)])\n",
    "X = torch.rand(2, 20)\n",
    "prednet_test = net_Q1(X)  # TypeError: 'list' object is not callable\n",
    "print(prednet_test)\n",
    "print(net_Q1)"
   ]
  },
  {
   "cell_type": "code",
   "execution_count": 5,
   "id": "30ec7325",
   "metadata": {},
   "outputs": [],
   "source": [
    "#Q2\n",
    "class ParallelBlock(nn.Module):\n",
    "    def __init__(self, net1, net2):\n",
    "        super(ParallelBlock, self).__init__()\n",
    "        self.net1 = net1\n",
    "        self.net2 = net2\n",
    "\n",
    "    def forward(self, x):\n",
    "        output1 = self.net1(x)\n",
    "        output2 = self.net2(x)\n",
    "        return torch.cat((output1, output2), dim=1)\n",
    "# 创建两个子网络\n",
    "net1 = nn.Sequential(\n",
    "    nn.Linear(20, 256),\n",
    "    nn.ReLU(),\n",
    "    nn.Linear(256, 10)\n",
    ")\n",
    "\n",
    "net2 = nn.Sequential(\n",
    "    nn.Linear(20, 128),\n",
    "    nn.ReLU(),\n",
    "    nn.Linear(128, 5)\n",
    ")"
   ]
  },
  {
   "cell_type": "code",
   "execution_count": 7,
   "id": "7b98769b",
   "metadata": {},
   "outputs": [
    {
     "name": "stdout",
     "output_type": "stream",
     "text": [
      "tensor([[ 0.0449, -0.3026,  0.1369,  0.3758, -0.0751,  0.2671, -0.1622,  0.2401,\n",
      "         -0.1306, -0.0428, -0.0774, -0.1692,  0.6624, -0.2798, -0.1921],\n",
      "        [ 0.1171, -0.1901,  0.1484,  0.3833, -0.3507, -0.3173,  0.0095, -0.2878,\n",
      "          0.2175,  0.0653, -0.2872,  0.0158, -0.0486, -0.1562, -0.2522]],\n",
      "       grad_fn=<CatBackward0>)\n",
      "torch.Size([2, 15])\n"
     ]
    }
   ],
   "source": [
    "# 创建平行块\n",
    "parallel_block = ParallelBlock(net1, net2)\n",
    "\n",
    "# 测试前向传播\n",
    "x = torch.randn(2, 20)  # 创建输入张量\n",
    "output = parallel_block(x)  # 前向传播\n",
    "print(output)  \n",
    "print(output.shape)# 输出形状为 (2, 15)，因为 net1 输出 10 维，net2 输出 5 维，串联后为 15 维"
   ]
  },
  {
   "cell_type": "code",
   "execution_count": null,
   "id": "0feeec49",
   "metadata": {},
   "outputs": [],
   "source": [
    "#Q3有点问题这里的features的特征只能先后一样，目前还没有想到好的办法解决。"
   ]
  },
  {
   "cell_type": "code",
   "execution_count": 22,
   "id": "bba70f59",
   "metadata": {},
   "outputs": [
    {
     "name": "stdout",
     "output_type": "stream",
     "text": [
      "torch.Size([2, 20])\n"
     ]
    }
   ],
   "source": [
    "class Basic_block(nn.Module):\n",
    "    def __init__(self):\n",
    "        super(Basic_block, self).__init__()\n",
    "        self.linear = nn.Linear(20, 20)  # 输入维度为20，输出维度为50\n",
    "        self.relu = nn.ReLU()\n",
    "\n",
    "    def forward(self, x):\n",
    "        return self.relu(self.linear(x))\n",
    "\n",
    "def create_more(block_class, num_blocks, *args, **kwargs):\n",
    "    blocks = []\n",
    "    for _ in range(num_blocks):\n",
    "        blocks.append(block_class(*args, **kwargs))\n",
    "    return nn.Sequential(*blocks)\n",
    "\n",
    "# 创建由5个 Basic_block 实例组成的更大网络\n",
    "larger_network = create_more(Basic_block, 5)\n",
    "\n",
    "# 测试前向传播\n",
    "x = torch.randn(2, 20)  # 创建输入张量，维度为2x20\n",
    "output = larger_network(x)  # 前向传播\n",
    "print(output.shape)  # 输出张量的形状\n"
   ]
  },
  {
   "cell_type": "code",
   "execution_count": null,
   "id": "5a3060f5",
   "metadata": {},
   "outputs": [],
   "source": []
  }
 ],
 "metadata": {
  "kernelspec": {
   "display_name": "Python 3 (ipykernel)",
   "language": "python",
   "name": "python3"
  },
  "language_info": {
   "codemirror_mode": {
    "name": "ipython",
    "version": 3
   },
   "file_extension": ".py",
   "mimetype": "text/x-python",
   "name": "python",
   "nbconvert_exporter": "python",
   "pygments_lexer": "ipython3",
   "version": "3.9.19"
  },
  "toc": {
   "base_numbering": 1,
   "nav_menu": {},
   "number_sections": true,
   "sideBar": true,
   "skip_h1_title": false,
   "title_cell": "Table of Contents",
   "title_sidebar": "Contents",
   "toc_cell": false,
   "toc_position": {},
   "toc_section_display": true,
   "toc_window_display": false
  }
 },
 "nbformat": 4,
 "nbformat_minor": 5
}
