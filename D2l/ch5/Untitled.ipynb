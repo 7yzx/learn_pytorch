{
 "cells": [
  {
   "cell_type": "code",
   "execution_count": 1,
   "id": "6ec163a0",
   "metadata": {},
   "outputs": [],
   "source": [
    "import torch\n",
    "import torch.nn as nn\n",
    "import torch.optim as optim\n",
    "\n",
    "class SharedLayer(nn.Module):\n",
    "    def __init__(self, input_dim, output_dim):\n",
    "        super(SharedLayer, self).__init__()\n",
    "        self.linear = nn.Linear(input_dim, output_dim)\n",
    "\n",
    "    def forward(self, x):\n",
    "        return self.linear(x)\n",
    "\n",
    "class MLPWithSharedLayer(nn.Module):\n",
    "    def __init__(self, input_dim, hidden_dim, output_dim):\n",
    "        super(MLPWithSharedLayer, self).__init__()\n",
    "        self.shared_layer = SharedLayer(input_dim, hidden_dim)\n",
    "        self.fc2 = nn.Linear(hidden_dim, output_dim)\n",
    "\n",
    "    def forward(self, x):\n",
    "        x = torch.relu(self.shared_layer(x))\n",
    "        x = torch.relu(self.shared_layer(x))\n",
    "        x = self.fc2(x)\n",
    "        return x\n"
   ]
  },
  {
   "cell_type": "code",
   "execution_count": 6,
   "id": "16f9802b",
   "metadata": {},
   "outputs": [],
   "source": [
    "# 初始化模型、损失函数和优化器\n",
    "input_dim = 5\n",
    "hidden_dim = 5\n",
    "output_dim = 1\n",
    "\n",
    "model = MLPWithSharedLayer(input_dim, hidden_dim, output_dim)\n",
    "criterion = nn.MSELoss()\n",
    "optimizer = optim.SGD(model.parameters(), lr=0.01)\n"
   ]
  },
  {
   "cell_type": "code",
   "execution_count": 7,
   "id": "ffe3b3f4",
   "metadata": {},
   "outputs": [
    {
     "name": "stdout",
     "output_type": "stream",
     "text": [
      "Epoch 1/5\n",
      "Shared Layer Weights: tensor([[-0.1088,  0.0437, -0.3625, -0.0717, -0.3809],\n",
      "        [ 0.2485,  0.1476, -0.2140, -0.4009, -0.1683],\n",
      "        [ 0.1301, -0.1307, -0.1414, -0.2080,  0.3125],\n",
      "        [ 0.4131, -0.1830, -0.2928,  0.4037,  0.1550],\n",
      "        [ 0.0461, -0.0243, -0.3075,  0.2651,  0.3319]])\n",
      "Shared Layer Gradients: tensor([[ 0.1532,  0.1771, -0.0042, -0.0602,  0.0055],\n",
      "        [ 0.0171,  0.0438,  0.0080, -0.0446,  0.0012],\n",
      "        [ 0.1018,  0.1185,  0.0362,  0.0217,  0.0201],\n",
      "        [-0.0369, -0.1619,  0.0550,  0.0242, -0.0498],\n",
      "        [-0.0071,  0.0245, -0.0069,  0.0100,  0.0151]])\n",
      "FC2 Layer Weights: tensor([[-0.3894, -0.0975, -0.1882,  0.0641,  0.3510]])\n",
      "FC2 Layer Gradients: tensor([[ 0.0127, -0.2844, -0.0861, -0.0972,  0.0000]])\n",
      "Epoch 2/5\n",
      "Shared Layer Weights: tensor([[-0.1104,  0.0420, -0.3624, -0.0712, -0.3810],\n",
      "        [ 0.2484,  0.1472, -0.2141, -0.4005, -0.1683],\n",
      "        [ 0.1291, -0.1319, -0.1417, -0.2082,  0.3123],\n",
      "        [ 0.4135, -0.1814, -0.2934,  0.4035,  0.1555],\n",
      "        [ 0.0462, -0.0246, -0.3075,  0.2650,  0.3318]])\n",
      "Shared Layer Gradients: tensor([[ 0.1541,  0.1744, -0.0042, -0.0586,  0.0062],\n",
      "        [ 0.0162,  0.0415,  0.0080, -0.0430,  0.0018],\n",
      "        [ 0.1006,  0.1171,  0.0362,  0.0216,  0.0200],\n",
      "        [-0.0371, -0.1606,  0.0545,  0.0246, -0.0494],\n",
      "        [-0.0071,  0.0243, -0.0068,  0.0099,  0.0149]])\n",
      "FC2 Layer Weights: tensor([[-0.3895, -0.0947, -0.1874,  0.0650,  0.3510]])\n",
      "FC2 Layer Gradients: tensor([[ 0.0148, -0.2799, -0.0826, -0.0943,  0.0000]])\n",
      "Epoch 3/5\n",
      "Shared Layer Weights: tensor([[-0.1119,  0.0403, -0.3624, -0.0706, -0.3810],\n",
      "        [ 0.2482,  0.1468, -0.2142, -0.4001, -0.1683],\n",
      "        [ 0.1281, -0.1330, -0.1421, -0.2084,  0.3121],\n",
      "        [ 0.4138, -0.1798, -0.2939,  0.4032,  0.1560],\n",
      "        [ 0.0462, -0.0248, -0.3074,  0.2649,  0.3316]])\n",
      "Shared Layer Gradients: tensor([[ 0.1550,  0.1717, -0.0042, -0.0570,  0.0069],\n",
      "        [ 0.0158,  0.0402,  0.0077, -0.0409,  0.0022],\n",
      "        [ 0.0994,  0.1157,  0.0361,  0.0215,  0.0199],\n",
      "        [-0.0374, -0.1594,  0.0540,  0.0249, -0.0491],\n",
      "        [-0.0070,  0.0240, -0.0068,  0.0099,  0.0147]])\n",
      "FC2 Layer Weights: tensor([[-0.3897, -0.0919, -0.1866,  0.0659,  0.3510]])\n",
      "FC2 Layer Gradients: tensor([[ 0.0168, -0.2755, -0.0791, -0.0916,  0.0000]])\n",
      "Epoch 4/5\n",
      "Shared Layer Weights: tensor([[-0.1135,  0.0386, -0.3623, -0.0700, -0.3811],\n",
      "        [ 0.2481,  0.1464, -0.2142, -0.3997, -0.1684],\n",
      "        [ 0.1271, -0.1342, -0.1425, -0.2086,  0.3119],\n",
      "        [ 0.4142, -0.1782, -0.2944,  0.4030,  0.1565],\n",
      "        [ 0.0463, -0.0250, -0.3073,  0.2648,  0.3315]])\n",
      "Shared Layer Gradients: tensor([[ 0.1558,  0.1692, -0.0043, -0.0554,  0.0076],\n",
      "        [ 0.0155,  0.0390,  0.0075, -0.0389,  0.0025],\n",
      "        [ 0.0983,  0.1144,  0.0361,  0.0214,  0.0198],\n",
      "        [-0.0376, -0.1582,  0.0536,  0.0252, -0.0487],\n",
      "        [-0.0070,  0.0238, -0.0067,  0.0098,  0.0145]])\n",
      "FC2 Layer Weights: tensor([[-0.3899, -0.0892, -0.1858,  0.0668,  0.3510]])\n",
      "FC2 Layer Gradients: tensor([[ 0.0189, -0.2712, -0.0758, -0.0889,  0.0000]])\n",
      "Epoch 5/5\n",
      "Shared Layer Weights: tensor([[-0.1151,  0.0369, -0.3623, -0.0695, -0.3812],\n",
      "        [ 0.2479,  0.1460, -0.2143, -0.3993, -0.1684],\n",
      "        [ 0.1261, -0.1353, -0.1428, -0.2089,  0.3117],\n",
      "        [ 0.4146, -0.1766, -0.2950,  0.4027,  0.1569],\n",
      "        [ 0.0464, -0.0253, -0.3073,  0.2647,  0.3314]])\n",
      "Shared Layer Gradients: tensor([[ 0.1567,  0.1667, -0.0043, -0.0538,  0.0082],\n",
      "        [ 0.0151,  0.0378,  0.0072, -0.0369,  0.0029],\n",
      "        [ 0.0972,  0.1131,  0.0361,  0.0213,  0.0197],\n",
      "        [-0.0378, -0.1570,  0.0531,  0.0255, -0.0484],\n",
      "        [-0.0069,  0.0236, -0.0066,  0.0098,  0.0142]])\n",
      "FC2 Layer Weights: tensor([[-0.3901, -0.0865, -0.1851,  0.0677,  0.3510]])\n",
      "FC2 Layer Gradients: tensor([[ 0.0208, -0.2671, -0.0725, -0.0864,  0.0000]])\n"
     ]
    }
   ],
   "source": [
    "# 生成一些假数据\n",
    "batch_size = 8\n",
    "x = torch.randn(batch_size, input_dim)\n",
    "y = torch.randn(batch_size, output_dim)\n",
    "\n",
    "# 训练模型\n",
    "num_epochs = 5\n",
    "for epoch in range(num_epochs):\n",
    "    optimizer.zero_grad()\n",
    "    outputs = model(x)\n",
    "    loss = criterion(outputs, y)\n",
    "    loss.backward()\n",
    "    optimizer.step()\n",
    "\n",
    "    print(f'Epoch {epoch+1}/{num_epochs}')\n",
    "    print('Shared Layer Weights:', model.shared_layer.linear.weight.data)\n",
    "    print('Shared Layer Gradients:', model.shared_layer.linear.weight.grad)\n",
    "    print('FC2 Layer Weights:', model.fc2.weight.data)\n",
    "    print('FC2 Layer Gradients:', model.fc2.weight.grad)\n"
   ]
  },
  {
   "cell_type": "code",
   "execution_count": 12,
   "id": "97043df4",
   "metadata": {},
   "outputs": [
    {
     "name": "stdout",
     "output_type": "stream",
     "text": [
      "cpu cost time 22.66202\n",
      "gpu cost time 0.30718\n"
     ]
    }
   ],
   "source": [
    "import torch\n",
    "from d2l import torch as d2l\n",
    "nums = 10000\n",
    "x_cpu = torch.ones(nums,nums)\n",
    "x_gpu = torch.ones(nums,nums, device='cuda')\n",
    "\n",
    "timer1 = d2l.Timer()\n",
    "torch.mm(x_cpu,x_cpu)\n",
    "print(\"cpu cost time {:.5f}\".format(float(timer1.stop())))\n",
    "\n",
    "timer2 = d2l.Timer()\n",
    "torch.mm(x_gpu,x_gpu)\n",
    "print(\"gpu cost time {:.5f}\".format(float(timer2.stop())))"
   ]
  },
  {
   "cell_type": "code",
   "execution_count": null,
   "id": "cc448f26",
   "metadata": {},
   "outputs": [],
   "source": []
  },
  {
   "cell_type": "code",
   "execution_count": null,
   "id": "c3b0ec7b",
   "metadata": {},
   "outputs": [],
   "source": []
  }
 ],
 "metadata": {
  "kernelspec": {
   "display_name": "Python 3 (ipykernel)",
   "language": "python",
   "name": "python3"
  },
  "language_info": {
   "codemirror_mode": {
    "name": "ipython",
    "version": 3
   },
   "file_extension": ".py",
   "mimetype": "text/x-python",
   "name": "python",
   "nbconvert_exporter": "python",
   "pygments_lexer": "ipython3",
   "version": "3.9.19"
  },
  "toc": {
   "base_numbering": 1,
   "nav_menu": {},
   "number_sections": true,
   "sideBar": true,
   "skip_h1_title": false,
   "title_cell": "Table of Contents",
   "title_sidebar": "Contents",
   "toc_cell": false,
   "toc_position": {},
   "toc_section_display": true,
   "toc_window_display": false
  }
 },
 "nbformat": 4,
 "nbformat_minor": 5
}
